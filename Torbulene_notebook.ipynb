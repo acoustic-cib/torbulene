{
 "cells": [
  {
   "cell_type": "markdown",
   "metadata": {},
   "source": [
    "# Torbulene notebook\n"
   ]
  },
  {
   "cell_type": "code",
   "execution_count": 11,
   "metadata": {},
   "outputs": [],
   "source": [
    "import numpy as np\n",
    "import matplotlib.pyplot as plt\n",
    "import yfinance as yf\n",
    "import pandas as pd\n",
    "import mplfinance as mpf\n"
   ]
  },
  {
   "cell_type": "code",
   "execution_count": 28,
   "metadata": {},
   "outputs": [],
   "source": [
    "ticker_symbol = 'BTC-AUD'\n",
    "#ticker_symbol = 'AAPL'"
   ]
  },
  {
   "cell_type": "code",
   "execution_count": 29,
   "metadata": {},
   "outputs": [
    {
     "name": "stderr",
     "output_type": "stream",
     "text": [
      "[*********************100%***********************]  1 of 1 completed\n"
     ]
    }
   ],
   "source": [
    "data = yf.download(ticker_symbol, start='2024-11-04', end='2025-01-21')"
   ]
  },
  {
   "cell_type": "code",
   "execution_count": 30,
   "metadata": {},
   "outputs": [
    {
     "data": {
      "text/html": [
       "<div>\n",
       "<style scoped>\n",
       "    .dataframe tbody tr th:only-of-type {\n",
       "        vertical-align: middle;\n",
       "    }\n",
       "\n",
       "    .dataframe tbody tr th {\n",
       "        vertical-align: top;\n",
       "    }\n",
       "\n",
       "    .dataframe thead tr th {\n",
       "        text-align: left;\n",
       "    }\n",
       "\n",
       "    .dataframe thead tr:last-of-type th {\n",
       "        text-align: right;\n",
       "    }\n",
       "</style>\n",
       "<table border=\"1\" class=\"dataframe\">\n",
       "  <thead>\n",
       "    <tr>\n",
       "      <th>Price</th>\n",
       "      <th>Close</th>\n",
       "      <th>High</th>\n",
       "      <th>Low</th>\n",
       "      <th>Open</th>\n",
       "      <th>Volume</th>\n",
       "    </tr>\n",
       "    <tr>\n",
       "      <th>Ticker</th>\n",
       "      <th>BTC-AUD</th>\n",
       "      <th>BTC-AUD</th>\n",
       "      <th>BTC-AUD</th>\n",
       "      <th>BTC-AUD</th>\n",
       "      <th>BTC-AUD</th>\n",
       "    </tr>\n",
       "    <tr>\n",
       "      <th>Date</th>\n",
       "      <th></th>\n",
       "      <th></th>\n",
       "      <th></th>\n",
       "      <th></th>\n",
       "      <th></th>\n",
       "    </tr>\n",
       "  </thead>\n",
       "  <tbody>\n",
       "    <tr>\n",
       "      <th>2024-11-04</th>\n",
       "      <td>104295.875000</td>\n",
       "      <td>105734.218750</td>\n",
       "      <td>102885.414062</td>\n",
       "      <td>105634.710938</td>\n",
       "      <td>52903137819</td>\n",
       "    </tr>\n",
       "    <tr>\n",
       "      <th>2024-11-05</th>\n",
       "      <td>102995.578125</td>\n",
       "      <td>105157.242188</td>\n",
       "      <td>101456.640625</td>\n",
       "      <td>104297.421875</td>\n",
       "      <td>62553604052</td>\n",
       "    </tr>\n",
       "    <tr>\n",
       "      <th>2024-11-06</th>\n",
       "      <td>104445.656250</td>\n",
       "      <td>106288.273438</td>\n",
       "      <td>102426.914062</td>\n",
       "      <td>102995.070312</td>\n",
       "      <td>69340076483</td>\n",
       "    </tr>\n",
       "    <tr>\n",
       "      <th>2024-11-07</th>\n",
       "      <td>115177.664062</td>\n",
       "      <td>116346.125000</td>\n",
       "      <td>104428.164062</td>\n",
       "      <td>104444.054688</td>\n",
       "      <td>180584236191</td>\n",
       "    </tr>\n",
       "    <tr>\n",
       "      <th>2024-11-08</th>\n",
       "      <td>113713.750000</td>\n",
       "      <td>115134.679688</td>\n",
       "      <td>112535.968750</td>\n",
       "      <td>115174.632812</td>\n",
       "      <td>95081465149</td>\n",
       "    </tr>\n",
       "  </tbody>\n",
       "</table>\n",
       "</div>"
      ],
      "text/plain": [
       "Price               Close           High            Low           Open  \\\n",
       "Ticker            BTC-AUD        BTC-AUD        BTC-AUD        BTC-AUD   \n",
       "Date                                                                     \n",
       "2024-11-04  104295.875000  105734.218750  102885.414062  105634.710938   \n",
       "2024-11-05  102995.578125  105157.242188  101456.640625  104297.421875   \n",
       "2024-11-06  104445.656250  106288.273438  102426.914062  102995.070312   \n",
       "2024-11-07  115177.664062  116346.125000  104428.164062  104444.054688   \n",
       "2024-11-08  113713.750000  115134.679688  112535.968750  115174.632812   \n",
       "\n",
       "Price             Volume  \n",
       "Ticker           BTC-AUD  \n",
       "Date                      \n",
       "2024-11-04   52903137819  \n",
       "2024-11-05   62553604052  \n",
       "2024-11-06   69340076483  \n",
       "2024-11-07  180584236191  \n",
       "2024-11-08   95081465149  "
      ]
     },
     "execution_count": 30,
     "metadata": {},
     "output_type": "execute_result"
    }
   ],
   "source": [
    "data.head()"
   ]
  },
  {
   "cell_type": "markdown",
   "metadata": {},
   "source": [
    "# Slice into 1-wk chunks\n"
   ]
  },
  {
   "cell_type": "code",
   "execution_count": null,
   "metadata": {},
   "outputs": [],
   "source": [
    "data_dict = []\n",
    "\n",
    "cc = 0\n",
    "dd = []\n",
    "for this_row in data.iterrows():\n",
    "\n",
    "    if cc < 6:\n",
    "\n",
    "        dd.append(this_row[1]['Open']['BTC-AUD'])\n",
    "        dd.append(this_row[1]['High']['BTC-AUD'])\n",
    "        dd.append(this_row[1]['Low']['BTC-AUD'])\n",
    "        dd.append(this_row[1]['Close']['BTC-AUD'])\n",
    "        \n",
    "    cc += 1\n",
    "\n",
    "    if cc == 6:\n",
    "\n",
    "        cc = 0\n",
    "        dd = np.array(dd)\n",
    "        data_dict.append(\n",
    "            {\n",
    "                'Avg': np.mean(dd),\n",
    "                'Max': np.max(dd),\n",
    "                'Min': np.min(dd),\n",
    "                'Spread': np.max(dd) - np.min(dd),\n",
    "                'Data': dd\n",
    "            }\n",
    "        )\n",
    "\n",
    "        dd = []"
   ]
  },
  {
   "cell_type": "code",
   "execution_count": 58,
   "metadata": {},
   "outputs": [
    {
     "data": {
      "text/html": [
       "<div>\n",
       "<style scoped>\n",
       "    .dataframe tbody tr th:only-of-type {\n",
       "        vertical-align: middle;\n",
       "    }\n",
       "\n",
       "    .dataframe tbody tr th {\n",
       "        vertical-align: top;\n",
       "    }\n",
       "\n",
       "    .dataframe thead th {\n",
       "        text-align: right;\n",
       "    }\n",
       "</style>\n",
       "<table border=\"1\" class=\"dataframe\">\n",
       "  <thead>\n",
       "    <tr style=\"text-align: right;\">\n",
       "      <th></th>\n",
       "      <th>Avg</th>\n",
       "      <th>Max</th>\n",
       "      <th>Min</th>\n",
       "      <th>Data</th>\n",
       "    </tr>\n",
       "  </thead>\n",
       "  <tbody>\n",
       "    <tr>\n",
       "      <th>0</th>\n",
       "      <td>108614.705078</td>\n",
       "      <td>117510.773438</td>\n",
       "      <td>101456.640625</td>\n",
       "      <td>[105634.7109375, 105734.21875, 102885.4140625,...</td>\n",
       "    </tr>\n",
       "    <tr>\n",
       "      <th>1</th>\n",
       "      <td>129049.163086</td>\n",
       "      <td>143964.406250</td>\n",
       "      <td>115157.742188</td>\n",
       "      <td>[116330.9609375, 116919.109375, 115157.7421875...</td>\n",
       "    </tr>\n",
       "    <tr>\n",
       "      <th>2</th>\n",
       "      <td>140357.840495</td>\n",
       "      <td>146168.468750</td>\n",
       "      <td>134738.828125</td>\n",
       "      <td>[135250.9375, 142167.703125, 134738.828125, 14...</td>\n",
       "    </tr>\n",
       "    <tr>\n",
       "      <th>3</th>\n",
       "      <td>148511.405599</td>\n",
       "      <td>153398.921875</td>\n",
       "      <td>140534.093750</td>\n",
       "      <td>[144865.0, 152067.515625, 144452.03125, 151332...</td>\n",
       "    </tr>\n",
       "    <tr>\n",
       "      <th>4</th>\n",
       "      <td>147969.941406</td>\n",
       "      <td>151476.250000</td>\n",
       "      <td>141770.500000</td>\n",
       "      <td>[142062.171875, 149868.84375, 141770.5, 147706...</td>\n",
       "    </tr>\n",
       "    <tr>\n",
       "      <th>5</th>\n",
       "      <td>152841.622396</td>\n",
       "      <td>161512.968750</td>\n",
       "      <td>142542.906250</td>\n",
       "      <td>[148048.28125, 149079.53125, 144290.453125, 14...</td>\n",
       "    </tr>\n",
       "    <tr>\n",
       "      <th>6</th>\n",
       "      <td>155987.742839</td>\n",
       "      <td>161528.281250</td>\n",
       "      <td>146538.125000</td>\n",
       "      <td>[158196.578125, 158251.953125, 146538.125, 151...</td>\n",
       "    </tr>\n",
       "    <tr>\n",
       "      <th>7</th>\n",
       "      <td>162121.612630</td>\n",
       "      <td>170670.593750</td>\n",
       "      <td>147937.109375</td>\n",
       "      <td>[159568.015625, 165012.046875, 159337.421875, ...</td>\n",
       "    </tr>\n",
       "    <tr>\n",
       "      <th>8</th>\n",
       "      <td>155113.717448</td>\n",
       "      <td>159980.625000</td>\n",
       "      <td>147913.671875</td>\n",
       "      <td>[156359.859375, 159160.40625, 154233.0625, 155...</td>\n",
       "    </tr>\n",
       "    <tr>\n",
       "      <th>9</th>\n",
       "      <td>151483.647135</td>\n",
       "      <td>156529.312500</td>\n",
       "      <td>146814.765625</td>\n",
       "      <td>[153792.34375, 156529.3125, 150421.671875, 151...</td>\n",
       "    </tr>\n",
       "    <tr>\n",
       "      <th>10</th>\n",
       "      <td>157972.814453</td>\n",
       "      <td>164558.453125</td>\n",
       "      <td>152150.328125</td>\n",
       "      <td>[152445.390625, 157554.625, 152150.328125, 156...</td>\n",
       "    </tr>\n",
       "    <tr>\n",
       "      <th>11</th>\n",
       "      <td>152642.745443</td>\n",
       "      <td>156270.390625</td>\n",
       "      <td>145139.687500</td>\n",
       "      <td>[155473.140625, 156270.390625, 149129.359375, ...</td>\n",
       "    </tr>\n",
       "    <tr>\n",
       "      <th>12</th>\n",
       "      <td>162115.890625</td>\n",
       "      <td>171520.578125</td>\n",
       "      <td>152537.031250</td>\n",
       "      <td>[152669.75, 157273.234375, 152537.03125, 15592...</td>\n",
       "    </tr>\n",
       "  </tbody>\n",
       "</table>\n",
       "</div>"
      ],
      "text/plain": [
       "              Avg            Max            Min  \\\n",
       "0   108614.705078  117510.773438  101456.640625   \n",
       "1   129049.163086  143964.406250  115157.742188   \n",
       "2   140357.840495  146168.468750  134738.828125   \n",
       "3   148511.405599  153398.921875  140534.093750   \n",
       "4   147969.941406  151476.250000  141770.500000   \n",
       "5   152841.622396  161512.968750  142542.906250   \n",
       "6   155987.742839  161528.281250  146538.125000   \n",
       "7   162121.612630  170670.593750  147937.109375   \n",
       "8   155113.717448  159980.625000  147913.671875   \n",
       "9   151483.647135  156529.312500  146814.765625   \n",
       "10  157972.814453  164558.453125  152150.328125   \n",
       "11  152642.745443  156270.390625  145139.687500   \n",
       "12  162115.890625  171520.578125  152537.031250   \n",
       "\n",
       "                                                 Data  \n",
       "0   [105634.7109375, 105734.21875, 102885.4140625,...  \n",
       "1   [116330.9609375, 116919.109375, 115157.7421875...  \n",
       "2   [135250.9375, 142167.703125, 134738.828125, 14...  \n",
       "3   [144865.0, 152067.515625, 144452.03125, 151332...  \n",
       "4   [142062.171875, 149868.84375, 141770.5, 147706...  \n",
       "5   [148048.28125, 149079.53125, 144290.453125, 14...  \n",
       "6   [158196.578125, 158251.953125, 146538.125, 151...  \n",
       "7   [159568.015625, 165012.046875, 159337.421875, ...  \n",
       "8   [156359.859375, 159160.40625, 154233.0625, 155...  \n",
       "9   [153792.34375, 156529.3125, 150421.671875, 151...  \n",
       "10  [152445.390625, 157554.625, 152150.328125, 156...  \n",
       "11  [155473.140625, 156270.390625, 149129.359375, ...  \n",
       "12  [152669.75, 157273.234375, 152537.03125, 15592...  "
      ]
     },
     "execution_count": 58,
     "metadata": {},
     "output_type": "execute_result"
    }
   ],
   "source": [
    "df = pd.DataFrame(data_dict)\n",
    "df"
   ]
  },
  {
   "cell_type": "code",
   "execution_count": 61,
   "metadata": {},
   "outputs": [
    {
     "data": {
      "text/plain": [
       "(array([2., 3., 2., 0., 8., 1., 1., 0., 5., 2.]),\n",
       " array([152537.03125  , 154435.3859375, 156333.740625 , 158232.0953125,\n",
       "        160130.45     , 162028.8046875, 163927.159375 , 165825.5140625,\n",
       "        167723.86875  , 169622.2234375, 171520.578125 ]),\n",
       " <BarContainer object of 10 artists>)"
      ]
     },
     "execution_count": 61,
     "metadata": {},
     "output_type": "execute_result"
    },
    {
     "data": {
      "image/png": "[encoded data removed]",
      "text/plain": [
       "<Figure size 640x480 with 1 Axes>"
      ]
     },
     "metadata": {},
     "output_type": "display_data"
    }
   ],
   "source": [
    "plt.hist(df['Data'][12])"
   ]
  },
  {
   "cell_type": "code",
   "execution_count": null,
   "metadata": {},
   "outputs": [],
   "source": []
  }
 ],
 "metadata": {
  "kernelspec": {
   "display_name": "torbulene",
   "language": "python",
   "name": "python3"
  },
  "language_info": {
   "codemirror_mode": {
    "name": "ipython",
    "version": 3
   },
   "file_extension": ".py",
   "mimetype": "text/x-python",
   "name": "python",
   "nbconvert_exporter": "python",
   "pygments_lexer": "ipython3",
   "version": "3.10.9"
  }
 },
 "nbformat": 4,
 "nbformat_minor": 2
}
